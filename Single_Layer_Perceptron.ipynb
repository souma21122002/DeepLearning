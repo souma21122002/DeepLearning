{
  "nbformat": 4,
  "nbformat_minor": 0,
  "metadata": {
    "colab": {
      "provenance": [],
      "authorship_tag": "ABX9TyN8E6xyZozGU/pS+K+o5954",
      "include_colab_link": true
    },
    "kernelspec": {
      "name": "python3",
      "display_name": "Python 3"
    },
    "language_info": {
      "name": "python"
    }
  },
  "cells": [
    {
      "cell_type": "markdown",
      "metadata": {
        "id": "view-in-github",
        "colab_type": "text"
      },
      "source": [
        "<a href=\"https://colab.research.google.com/github/souma21122002/DeepLearning/blob/main/Single_Layer_Perceptron.ipynb\" target=\"_parent\"><img src=\"https://colab.research.google.com/assets/colab-badge.svg\" alt=\"Open In Colab\"/></a>"
      ]
    },
    {
      "cell_type": "code",
      "execution_count": null,
      "metadata": {
        "id": "ovh8QXPahYvd"
      },
      "outputs": [],
      "source": [
        "import tensorflow.compat.v1 as tf\n",
        "tf.disable_v2_behavior()\n",
        "\n",
        "w=tf.Variable([.2]) #initial weight\n",
        "b=tf.Variable([-.2]) #initial bias\n",
        "\n",
        "x=tf.placeholder(tf.float32) #input\n",
        "y=tf.placeholder(tf.float32) #output"
      ]
    },
    {
      "cell_type": "code",
      "source": [
        "linear_model=w*x+b #linear model\n",
        "init=tf.global_variables_initializer() #initialize variables\n",
        "s=tf.Session() #setting up session for computing\n",
        "s.run(init)\n",
        "s.run(w)\n",
        "s.run(b)"
      ],
      "metadata": {
        "colab": {
          "base_uri": "https://localhost:8080/"
        },
        "id": "FOodSUFpiyy5",
        "outputId": "84924859-36cc-475a-e217-3b8bc5ecd516"
      },
      "execution_count": null,
      "outputs": [
        {
          "output_type": "execute_result",
          "data": {
            "text/plain": [
              "array([-0.2], dtype=float32)"
            ]
          },
          "metadata": {},
          "execution_count": 15
        }
      ]
    },
    {
      "cell_type": "code",
      "source": [
        "print(\"predicted output is\")\n",
        "print(s.run(linear_model,{x:[1,2,3,4]}))"
      ],
      "metadata": {
        "colab": {
          "base_uri": "https://localhost:8080/"
        },
        "id": "EKxdCzHTjdNn",
        "outputId": "3e33e99e-874c-4c3e-a8cd-18197c13e6ee"
      },
      "execution_count": null,
      "outputs": [
        {
          "output_type": "stream",
          "name": "stdout",
          "text": [
            "predicted output is\n",
            "[0.         0.2        0.40000004 0.6       ]\n"
          ]
        }
      ]
    },
    {
      "cell_type": "code",
      "source": [
        "squared_deltas=tf.square(linear_model-y)\n",
        "loss=tf.reduce_sum(squared_deltas)\n",
        "print(\"loss is\")\n",
        "print(s.run(loss,{x:[1,2,3,4],y:[0,-1,-2,-3]}))"
      ],
      "metadata": {
        "colab": {
          "base_uri": "https://localhost:8080/"
        },
        "id": "ekiqZIubjls3",
        "outputId": "c697587b-66b0-4530-cb6e-518728310dfa"
      },
      "execution_count": null,
      "outputs": [
        {
          "output_type": "stream",
          "name": "stdout",
          "text": [
            "loss is\n",
            "20.16\n"
          ]
        }
      ]
    },
    {
      "cell_type": "markdown",
      "source": [
        "**Reducing the error**"
      ],
      "metadata": {
        "id": "hUTvTa308Itq"
      }
    },
    {
      "cell_type": "code",
      "source": [
        "optimizer=tf.train.GradientDescentOptimizer(0.01) #0.01 is the learning rate\n",
        "train=optimizer.minimize(loss)\n",
        "s.run(init)\n",
        "for i in range(1000):\n",
        "  s.run(train,{x:[1,2,3,4],y:[0,-1,-2,-3]})"
      ],
      "metadata": {
        "id": "BKwrCde5kjB5"
      },
      "execution_count": null,
      "outputs": []
    },
    {
      "cell_type": "code",
      "source": [
        "print(s.run([w,b]))"
      ],
      "metadata": {
        "colab": {
          "base_uri": "https://localhost:8080/"
        },
        "id": "M9BUj9CS9Nal",
        "outputId": "d98ce79b-0f12-4426-84d5-4c9f8de76b64"
      },
      "execution_count": null,
      "outputs": [
        {
          "output_type": "stream",
          "name": "stdout",
          "text": [
            "[array([-0.99999714], dtype=float32), array([0.99999166], dtype=float32)]\n"
          ]
        }
      ]
    },
    {
      "cell_type": "code",
      "source": [
        "s.run(linear_model,{x:[1,2,3,4],y:[0,-1,-2,-3]})"
      ],
      "metadata": {
        "colab": {
          "base_uri": "https://localhost:8080/"
        },
        "id": "KQ1uSFnv9Y-3",
        "outputId": "b07fd3eb-8b36-41e4-f254-96ff6247a9af"
      },
      "execution_count": null,
      "outputs": [
        {
          "output_type": "execute_result",
          "data": {
            "text/plain": [
              "array([-5.4836273e-06, -1.0000026e+00, -1.9999998e+00, -2.9999969e+00],\n",
              "      dtype=float32)"
            ]
          },
          "metadata": {},
          "execution_count": 22
        }
      ]
    },
    {
      "cell_type": "markdown",
      "source": [
        "these values are very close to the actual values"
      ],
      "metadata": {
        "id": "jS0ElAec97GF"
      }
    },
    {
      "cell_type": "code",
      "source": [
        "s.run(loss,{x:[1,2,3,4],y:[0,-1,-2,-3]})"
      ],
      "metadata": {
        "colab": {
          "base_uri": "https://localhost:8080/"
        },
        "id": "FVuWkf5x9ppE",
        "outputId": "b1cf94a2-fe27-4c50-9d65-6f09b4ee09ad"
      },
      "execution_count": null,
      "outputs": [
        {
          "output_type": "execute_result",
          "data": {
            "text/plain": [
              "4.6611603e-11"
            ]
          },
          "metadata": {},
          "execution_count": 23
        }
      ]
    },
    {
      "cell_type": "markdown",
      "source": [
        "rmse reduce to 4.6611603e-11 from 20.16"
      ],
      "metadata": {
        "id": "er4qN5D--OvO"
      }
    },
    {
      "cell_type": "code",
      "source": [],
      "metadata": {
        "id": "epsqOMbI-IP0"
      },
      "execution_count": null,
      "outputs": []
    }
  ]
}