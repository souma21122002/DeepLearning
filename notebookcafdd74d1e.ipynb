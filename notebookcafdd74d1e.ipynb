{
  "metadata": {
    "kernelspec": {
      "language": "python",
      "display_name": "Python 3",
      "name": "python3"
    },
    "language_info": {
      "name": "python",
      "version": "3.10.12",
      "mimetype": "text/x-python",
      "codemirror_mode": {
        "name": "ipython",
        "version": 3
      },
      "pygments_lexer": "ipython3",
      "nbconvert_exporter": "python",
      "file_extension": ".py"
    },
    "kaggle": {
      "accelerator": "none",
      "dataSources": [
        {
          "sourceId": 1389250,
          "sourceType": "datasetVersion",
          "datasetId": 811044
        },
        {
          "sourceId": 11066202,
          "sourceType": "datasetVersion",
          "datasetId": 6895743
        }
      ],
      "dockerImageVersionId": 30918,
      "isInternetEnabled": false,
      "language": "python",
      "sourceType": "notebook",
      "isGpuEnabled": false
    },
    "colab": {
      "name": "notebookcafdd74d1e",
      "provenance": [],
      "include_colab_link": true
    },
    "widgets": {
      "application/vnd.jupyter.widget-state+json": {
        "358f070a49c7462999b7d28c9f61151f": {
          "model_module": "@jupyter-widgets/controls",
          "model_name": "VBoxModel",
          "model_module_version": "1.5.0",
          "state": {
            "_dom_classes": [],
            "_model_module": "@jupyter-widgets/controls",
            "_model_module_version": "1.5.0",
            "_model_name": "VBoxModel",
            "_view_count": null,
            "_view_module": "@jupyter-widgets/controls",
            "_view_module_version": "1.5.0",
            "_view_name": "VBoxView",
            "box_style": "",
            "children": [
              "IPY_MODEL_9af7f40940584c9690f4a75fae5a3214",
              "IPY_MODEL_596b1a96f8614a619f2e8771c4f38f2e",
              "IPY_MODEL_b44207d31cb447ceabed21b474e41500",
              "IPY_MODEL_e44bf3306ef44850b9b1b73c7c4baf56",
              "IPY_MODEL_0ea25d6294af4547929d9621261e1553"
            ],
            "layout": "IPY_MODEL_cc2a2cb4ceb14a4daef2006f1b3d63e0"
          }
        },
        "9af7f40940584c9690f4a75fae5a3214": {
          "model_module": "@jupyter-widgets/controls",
          "model_name": "HTMLModel",
          "model_module_version": "1.5.0",
          "state": {
            "_dom_classes": [],
            "_model_module": "@jupyter-widgets/controls",
            "_model_module_version": "1.5.0",
            "_model_name": "HTMLModel",
            "_view_count": null,
            "_view_module": "@jupyter-widgets/controls",
            "_view_module_version": "1.5.0",
            "_view_name": "HTMLView",
            "description": "",
            "description_tooltip": null,
            "layout": "IPY_MODEL_c3b3aed7ba1f44f9b355403ad547a943",
            "placeholder": "​",
            "style": "IPY_MODEL_4ff9d7e53c9e48f6b4354c26f0747b3e",
            "value": "<center> <img\nsrc=https://www.kaggle.com/static/images/site-logo.png\nalt='Kaggle'> <br> Create an API token from <a\nhref=\"https://www.kaggle.com/settings/account\" target=\"_blank\">your Kaggle\nsettings page</a> and paste it below along with your Kaggle username. <br> </center>"
          }
        },
        "596b1a96f8614a619f2e8771c4f38f2e": {
          "model_module": "@jupyter-widgets/controls",
          "model_name": "TextModel",
          "model_module_version": "1.5.0",
          "state": {
            "_dom_classes": [],
            "_model_module": "@jupyter-widgets/controls",
            "_model_module_version": "1.5.0",
            "_model_name": "TextModel",
            "_view_count": null,
            "_view_module": "@jupyter-widgets/controls",
            "_view_module_version": "1.5.0",
            "_view_name": "TextView",
            "continuous_update": true,
            "description": "Username:",
            "description_tooltip": null,
            "disabled": false,
            "layout": "IPY_MODEL_7ab342137fe34634ab8ef287b195cda1",
            "placeholder": "​",
            "style": "IPY_MODEL_1c53518cf9bb49e39929c77d5079eeea",
            "value": ""
          }
        },
        "b44207d31cb447ceabed21b474e41500": {
          "model_module": "@jupyter-widgets/controls",
          "model_name": "PasswordModel",
          "model_module_version": "1.5.0",
          "state": {
            "_dom_classes": [],
            "_model_module": "@jupyter-widgets/controls",
            "_model_module_version": "1.5.0",
            "_model_name": "PasswordModel",
            "_view_count": null,
            "_view_module": "@jupyter-widgets/controls",
            "_view_module_version": "1.5.0",
            "_view_name": "PasswordView",
            "continuous_update": true,
            "description": "Token:",
            "description_tooltip": null,
            "disabled": false,
            "layout": "IPY_MODEL_cc0b32276f634888a154c75983afc704",
            "placeholder": "​",
            "style": "IPY_MODEL_1487209a27474fe098d7e627ec7b8ec0",
            "value": ""
          }
        },
        "e44bf3306ef44850b9b1b73c7c4baf56": {
          "model_module": "@jupyter-widgets/controls",
          "model_name": "ButtonModel",
          "model_module_version": "1.5.0",
          "state": {
            "_dom_classes": [],
            "_model_module": "@jupyter-widgets/controls",
            "_model_module_version": "1.5.0",
            "_model_name": "ButtonModel",
            "_view_count": null,
            "_view_module": "@jupyter-widgets/controls",
            "_view_module_version": "1.5.0",
            "_view_name": "ButtonView",
            "button_style": "",
            "description": "Login",
            "disabled": false,
            "icon": "",
            "layout": "IPY_MODEL_eab079f77a98463aacaff0d466926e2c",
            "style": "IPY_MODEL_53555c42bf6a418ea1c97d5388b39e93",
            "tooltip": ""
          }
        },
        "0ea25d6294af4547929d9621261e1553": {
          "model_module": "@jupyter-widgets/controls",
          "model_name": "HTMLModel",
          "model_module_version": "1.5.0",
          "state": {
            "_dom_classes": [],
            "_model_module": "@jupyter-widgets/controls",
            "_model_module_version": "1.5.0",
            "_model_name": "HTMLModel",
            "_view_count": null,
            "_view_module": "@jupyter-widgets/controls",
            "_view_module_version": "1.5.0",
            "_view_name": "HTMLView",
            "description": "",
            "description_tooltip": null,
            "layout": "IPY_MODEL_cf24074e7b4f4b6896686613426a7e1e",
            "placeholder": "​",
            "style": "IPY_MODEL_d9943b70372c430c90c85c9123527a11",
            "value": "\n<b>Thank You</b></center>"
          }
        },
        "cc2a2cb4ceb14a4daef2006f1b3d63e0": {
          "model_module": "@jupyter-widgets/base",
          "model_name": "LayoutModel",
          "model_module_version": "1.2.0",
          "state": {
            "_model_module": "@jupyter-widgets/base",
            "_model_module_version": "1.2.0",
            "_model_name": "LayoutModel",
            "_view_count": null,
            "_view_module": "@jupyter-widgets/base",
            "_view_module_version": "1.2.0",
            "_view_name": "LayoutView",
            "align_content": null,
            "align_items": "center",
            "align_self": null,
            "border": null,
            "bottom": null,
            "display": "flex",
            "flex": null,
            "flex_flow": "column",
            "grid_area": null,
            "grid_auto_columns": null,
            "grid_auto_flow": null,
            "grid_auto_rows": null,
            "grid_column": null,
            "grid_gap": null,
            "grid_row": null,
            "grid_template_areas": null,
            "grid_template_columns": null,
            "grid_template_rows": null,
            "height": null,
            "justify_content": null,
            "justify_items": null,
            "left": null,
            "margin": null,
            "max_height": null,
            "max_width": null,
            "min_height": null,
            "min_width": null,
            "object_fit": null,
            "object_position": null,
            "order": null,
            "overflow": null,
            "overflow_x": null,
            "overflow_y": null,
            "padding": null,
            "right": null,
            "top": null,
            "visibility": null,
            "width": "50%"
          }
        },
        "c3b3aed7ba1f44f9b355403ad547a943": {
          "model_module": "@jupyter-widgets/base",
          "model_name": "LayoutModel",
          "model_module_version": "1.2.0",
          "state": {
            "_model_module": "@jupyter-widgets/base",
            "_model_module_version": "1.2.0",
            "_model_name": "LayoutModel",
            "_view_count": null,
            "_view_module": "@jupyter-widgets/base",
            "_view_module_version": "1.2.0",
            "_view_name": "LayoutView",
            "align_content": null,
            "align_items": null,
            "align_self": null,
            "border": null,
            "bottom": null,
            "display": null,
            "flex": null,
            "flex_flow": null,
            "grid_area": null,
            "grid_auto_columns": null,
            "grid_auto_flow": null,
            "grid_auto_rows": null,
            "grid_column": null,
            "grid_gap": null,
            "grid_row": null,
            "grid_template_areas": null,
            "grid_template_columns": null,
            "grid_template_rows": null,
            "height": null,
            "justify_content": null,
            "justify_items": null,
            "left": null,
            "margin": null,
            "max_height": null,
            "max_width": null,
            "min_height": null,
            "min_width": null,
            "object_fit": null,
            "object_position": null,
            "order": null,
            "overflow": null,
            "overflow_x": null,
            "overflow_y": null,
            "padding": null,
            "right": null,
            "top": null,
            "visibility": null,
            "width": null
          }
        },
        "4ff9d7e53c9e48f6b4354c26f0747b3e": {
          "model_module": "@jupyter-widgets/controls",
          "model_name": "DescriptionStyleModel",
          "model_module_version": "1.5.0",
          "state": {
            "_model_module": "@jupyter-widgets/controls",
            "_model_module_version": "1.5.0",
            "_model_name": "DescriptionStyleModel",
            "_view_count": null,
            "_view_module": "@jupyter-widgets/base",
            "_view_module_version": "1.2.0",
            "_view_name": "StyleView",
            "description_width": ""
          }
        },
        "7ab342137fe34634ab8ef287b195cda1": {
          "model_module": "@jupyter-widgets/base",
          "model_name": "LayoutModel",
          "model_module_version": "1.2.0",
          "state": {
            "_model_module": "@jupyter-widgets/base",
            "_model_module_version": "1.2.0",
            "_model_name": "LayoutModel",
            "_view_count": null,
            "_view_module": "@jupyter-widgets/base",
            "_view_module_version": "1.2.0",
            "_view_name": "LayoutView",
            "align_content": null,
            "align_items": null,
            "align_self": null,
            "border": null,
            "bottom": null,
            "display": null,
            "flex": null,
            "flex_flow": null,
            "grid_area": null,
            "grid_auto_columns": null,
            "grid_auto_flow": null,
            "grid_auto_rows": null,
            "grid_column": null,
            "grid_gap": null,
            "grid_row": null,
            "grid_template_areas": null,
            "grid_template_columns": null,
            "grid_template_rows": null,
            "height": null,
            "justify_content": null,
            "justify_items": null,
            "left": null,
            "margin": null,
            "max_height": null,
            "max_width": null,
            "min_height": null,
            "min_width": null,
            "object_fit": null,
            "object_position": null,
            "order": null,
            "overflow": null,
            "overflow_x": null,
            "overflow_y": null,
            "padding": null,
            "right": null,
            "top": null,
            "visibility": null,
            "width": null
          }
        },
        "1c53518cf9bb49e39929c77d5079eeea": {
          "model_module": "@jupyter-widgets/controls",
          "model_name": "DescriptionStyleModel",
          "model_module_version": "1.5.0",
          "state": {
            "_model_module": "@jupyter-widgets/controls",
            "_model_module_version": "1.5.0",
            "_model_name": "DescriptionStyleModel",
            "_view_count": null,
            "_view_module": "@jupyter-widgets/base",
            "_view_module_version": "1.2.0",
            "_view_name": "StyleView",
            "description_width": ""
          }
        },
        "cc0b32276f634888a154c75983afc704": {
          "model_module": "@jupyter-widgets/base",
          "model_name": "LayoutModel",
          "model_module_version": "1.2.0",
          "state": {
            "_model_module": "@jupyter-widgets/base",
            "_model_module_version": "1.2.0",
            "_model_name": "LayoutModel",
            "_view_count": null,
            "_view_module": "@jupyter-widgets/base",
            "_view_module_version": "1.2.0",
            "_view_name": "LayoutView",
            "align_content": null,
            "align_items": null,
            "align_self": null,
            "border": null,
            "bottom": null,
            "display": null,
            "flex": null,
            "flex_flow": null,
            "grid_area": null,
            "grid_auto_columns": null,
            "grid_auto_flow": null,
            "grid_auto_rows": null,
            "grid_column": null,
            "grid_gap": null,
            "grid_row": null,
            "grid_template_areas": null,
            "grid_template_columns": null,
            "grid_template_rows": null,
            "height": null,
            "justify_content": null,
            "justify_items": null,
            "left": null,
            "margin": null,
            "max_height": null,
            "max_width": null,
            "min_height": null,
            "min_width": null,
            "object_fit": null,
            "object_position": null,
            "order": null,
            "overflow": null,
            "overflow_x": null,
            "overflow_y": null,
            "padding": null,
            "right": null,
            "top": null,
            "visibility": null,
            "width": null
          }
        },
        "1487209a27474fe098d7e627ec7b8ec0": {
          "model_module": "@jupyter-widgets/controls",
          "model_name": "DescriptionStyleModel",
          "model_module_version": "1.5.0",
          "state": {
            "_model_module": "@jupyter-widgets/controls",
            "_model_module_version": "1.5.0",
            "_model_name": "DescriptionStyleModel",
            "_view_count": null,
            "_view_module": "@jupyter-widgets/base",
            "_view_module_version": "1.2.0",
            "_view_name": "StyleView",
            "description_width": ""
          }
        },
        "eab079f77a98463aacaff0d466926e2c": {
          "model_module": "@jupyter-widgets/base",
          "model_name": "LayoutModel",
          "model_module_version": "1.2.0",
          "state": {
            "_model_module": "@jupyter-widgets/base",
            "_model_module_version": "1.2.0",
            "_model_name": "LayoutModel",
            "_view_count": null,
            "_view_module": "@jupyter-widgets/base",
            "_view_module_version": "1.2.0",
            "_view_name": "LayoutView",
            "align_content": null,
            "align_items": null,
            "align_self": null,
            "border": null,
            "bottom": null,
            "display": null,
            "flex": null,
            "flex_flow": null,
            "grid_area": null,
            "grid_auto_columns": null,
            "grid_auto_flow": null,
            "grid_auto_rows": null,
            "grid_column": null,
            "grid_gap": null,
            "grid_row": null,
            "grid_template_areas": null,
            "grid_template_columns": null,
            "grid_template_rows": null,
            "height": null,
            "justify_content": null,
            "justify_items": null,
            "left": null,
            "margin": null,
            "max_height": null,
            "max_width": null,
            "min_height": null,
            "min_width": null,
            "object_fit": null,
            "object_position": null,
            "order": null,
            "overflow": null,
            "overflow_x": null,
            "overflow_y": null,
            "padding": null,
            "right": null,
            "top": null,
            "visibility": null,
            "width": null
          }
        },
        "53555c42bf6a418ea1c97d5388b39e93": {
          "model_module": "@jupyter-widgets/controls",
          "model_name": "ButtonStyleModel",
          "model_module_version": "1.5.0",
          "state": {
            "_model_module": "@jupyter-widgets/controls",
            "_model_module_version": "1.5.0",
            "_model_name": "ButtonStyleModel",
            "_view_count": null,
            "_view_module": "@jupyter-widgets/base",
            "_view_module_version": "1.2.0",
            "_view_name": "StyleView",
            "button_color": null,
            "font_weight": ""
          }
        },
        "cf24074e7b4f4b6896686613426a7e1e": {
          "model_module": "@jupyter-widgets/base",
          "model_name": "LayoutModel",
          "model_module_version": "1.2.0",
          "state": {
            "_model_module": "@jupyter-widgets/base",
            "_model_module_version": "1.2.0",
            "_model_name": "LayoutModel",
            "_view_count": null,
            "_view_module": "@jupyter-widgets/base",
            "_view_module_version": "1.2.0",
            "_view_name": "LayoutView",
            "align_content": null,
            "align_items": null,
            "align_self": null,
            "border": null,
            "bottom": null,
            "display": null,
            "flex": null,
            "flex_flow": null,
            "grid_area": null,
            "grid_auto_columns": null,
            "grid_auto_flow": null,
            "grid_auto_rows": null,
            "grid_column": null,
            "grid_gap": null,
            "grid_row": null,
            "grid_template_areas": null,
            "grid_template_columns": null,
            "grid_template_rows": null,
            "height": null,
            "justify_content": null,
            "justify_items": null,
            "left": null,
            "margin": null,
            "max_height": null,
            "max_width": null,
            "min_height": null,
            "min_width": null,
            "object_fit": null,
            "object_position": null,
            "order": null,
            "overflow": null,
            "overflow_x": null,
            "overflow_y": null,
            "padding": null,
            "right": null,
            "top": null,
            "visibility": null,
            "width": null
          }
        },
        "d9943b70372c430c90c85c9123527a11": {
          "model_module": "@jupyter-widgets/controls",
          "model_name": "DescriptionStyleModel",
          "model_module_version": "1.5.0",
          "state": {
            "_model_module": "@jupyter-widgets/controls",
            "_model_module_version": "1.5.0",
            "_model_name": "DescriptionStyleModel",
            "_view_count": null,
            "_view_module": "@jupyter-widgets/base",
            "_view_module_version": "1.2.0",
            "_view_name": "StyleView",
            "description_width": ""
          }
        }
      }
    }
  },
  "nbformat_minor": 0,
  "nbformat": 4,
  "cells": [
    {
      "cell_type": "markdown",
      "metadata": {
        "id": "view-in-github",
        "colab_type": "text"
      },
      "source": [
        "<a href=\"https://colab.research.google.com/github/souma21122002/DeepLearning/blob/main/notebookcafdd74d1e.ipynb\" target=\"_parent\"><img src=\"https://colab.research.google.com/assets/colab-badge.svg\" alt=\"Open In Colab\"/></a>"
      ]
    },
    {
      "source": [
        "# IMPORTANT: SOME KAGGLE DATA SOURCES ARE PRIVATE\n",
        "# RUN THIS CELL IN ORDER TO IMPORT YOUR KAGGLE DATA SOURCES.\n",
        "import kagglehub\n",
        "kagglehub.login()\n"
      ],
      "metadata": {
        "id": "dt0UMebi7G7y",
        "outputId": "d3b8df5e-e54f-4935-bcfd-8a1de404ba1b",
        "colab": {
          "base_uri": "https://localhost:8080/",
          "height": 300,
          "referenced_widgets": [
            "358f070a49c7462999b7d28c9f61151f",
            "9af7f40940584c9690f4a75fae5a3214",
            "596b1a96f8614a619f2e8771c4f38f2e",
            "b44207d31cb447ceabed21b474e41500",
            "e44bf3306ef44850b9b1b73c7c4baf56",
            "0ea25d6294af4547929d9621261e1553",
            "cc2a2cb4ceb14a4daef2006f1b3d63e0",
            "c3b3aed7ba1f44f9b355403ad547a943",
            "4ff9d7e53c9e48f6b4354c26f0747b3e",
            "7ab342137fe34634ab8ef287b195cda1",
            "1c53518cf9bb49e39929c77d5079eeea",
            "cc0b32276f634888a154c75983afc704",
            "1487209a27474fe098d7e627ec7b8ec0",
            "eab079f77a98463aacaff0d466926e2c",
            "53555c42bf6a418ea1c97d5388b39e93",
            "cf24074e7b4f4b6896686613426a7e1e",
            "d9943b70372c430c90c85c9123527a11"
          ]
        }
      },
      "cell_type": "code",
      "outputs": [
        {
          "output_type": "display_data",
          "data": {
            "text/plain": [
              "VBox(children=(HTML(value='<center> <img\\nsrc=https://www.kaggle.com/static/images/site-logo.png\\nalt=\\'Kaggle…"
            ],
            "application/vnd.jupyter.widget-view+json": {
              "version_major": 2,
              "version_minor": 0,
              "model_id": "358f070a49c7462999b7d28c9f61151f"
            }
          },
          "metadata": {}
        }
      ],
      "execution_count": 3
    },
    {
      "source": [
        "# IMPORTANT: RUN THIS CELL IN ORDER TO IMPORT YOUR KAGGLE DATA SOURCES,\n",
        "# THEN FEEL FREE TO DELETE THIS CELL.\n",
        "# NOTE: THIS NOTEBOOK ENVIRONMENT DIFFERS FROM KAGGLE'S PYTHON\n",
        "# ENVIRONMENT SO THERE MAY BE MISSING LIBRARIES USED BY YOUR\n",
        "# NOTEBOOK.\n",
        "\n",
        "robinreni_house_rooms_image_dataset_path = kagglehub.dataset_download('robinreni/house-rooms-image-dataset')\n",
        "soumadipsingha097_bathroomimage_path = kagglehub.dataset_download('soumadipsingha097/bathroomimage')\n",
        "\n",
        "print('Data source import complete.')\n"
      ],
      "metadata": {
        "id": "bgZreLyu7G70",
        "outputId": "a08c10ce-d56f-4784-bc6a-3addfedca3ed",
        "colab": {
          "base_uri": "https://localhost:8080/"
        }
      },
      "cell_type": "code",
      "outputs": [
        {
          "output_type": "stream",
          "name": "stdout",
          "text": [
            "Data source import complete.\n"
          ]
        }
      ],
      "execution_count": 6
    },
    {
      "cell_type": "code",
      "source": [
        "import numpy as np\n",
        "import pandas as pd\n",
        "import matplotlib.pyplot as plt\n",
        "import os\n",
        "room_types=os.listdir('/kaggle/input/house-rooms-image-dataset/House_Room_Dataset')\n",
        "print(room_types)\n",
        "print(\"the types of room found:\",len(room_types))"
      ],
      "metadata": {
        "_uuid": "8f2839f25d086af736a60e9eeb907d3b93b6e0e5",
        "_cell_guid": "b1076dfc-b9ad-4769-8c92-a6c4dae69d19",
        "trusted": true,
        "execution": {
          "iopub.status.busy": "2025-03-17T20:05:44.713796Z",
          "iopub.execute_input": "2025-03-17T20:05:44.71415Z",
          "iopub.status.idle": "2025-03-17T20:05:46.134621Z",
          "shell.execute_reply.started": "2025-03-17T20:05:44.714122Z",
          "shell.execute_reply": "2025-03-17T20:05:46.133452Z"
        },
        "id": "Az4ALZwA7G70",
        "outputId": "f25067ed-f187-44b1-9e38-001dfa15adac",
        "colab": {
          "base_uri": "https://localhost:8080/",
          "height": 211
        }
      },
      "outputs": [
        {
          "output_type": "error",
          "ename": "FileNotFoundError",
          "evalue": "[Errno 2] No such file or directory: '/kaggle/input/house-rooms-image-dataset/House_Room_Dataset'",
          "traceback": [
            "\u001b[0;31m---------------------------------------------------------------------------\u001b[0m",
            "\u001b[0;31mFileNotFoundError\u001b[0m                         Traceback (most recent call last)",
            "\u001b[0;32m<ipython-input-7-5eac91a21275>\u001b[0m in \u001b[0;36m<cell line: 0>\u001b[0;34m()\u001b[0m\n\u001b[1;32m      3\u001b[0m \u001b[0;32mimport\u001b[0m \u001b[0mmatplotlib\u001b[0m\u001b[0;34m.\u001b[0m\u001b[0mpyplot\u001b[0m \u001b[0;32mas\u001b[0m \u001b[0mplt\u001b[0m\u001b[0;34m\u001b[0m\u001b[0;34m\u001b[0m\u001b[0m\n\u001b[1;32m      4\u001b[0m \u001b[0;32mimport\u001b[0m \u001b[0mos\u001b[0m\u001b[0;34m\u001b[0m\u001b[0;34m\u001b[0m\u001b[0m\n\u001b[0;32m----> 5\u001b[0;31m \u001b[0mroom_types\u001b[0m\u001b[0;34m=\u001b[0m\u001b[0mos\u001b[0m\u001b[0;34m.\u001b[0m\u001b[0mlistdir\u001b[0m\u001b[0;34m(\u001b[0m\u001b[0;34m'/kaggle/input/house-rooms-image-dataset/House_Room_Dataset'\u001b[0m\u001b[0;34m)\u001b[0m\u001b[0;34m\u001b[0m\u001b[0;34m\u001b[0m\u001b[0m\n\u001b[0m\u001b[1;32m      6\u001b[0m \u001b[0mprint\u001b[0m\u001b[0;34m(\u001b[0m\u001b[0mroom_types\u001b[0m\u001b[0;34m)\u001b[0m\u001b[0;34m\u001b[0m\u001b[0;34m\u001b[0m\u001b[0m\n\u001b[1;32m      7\u001b[0m \u001b[0mprint\u001b[0m\u001b[0;34m(\u001b[0m\u001b[0;34m\"the types of room found:\"\u001b[0m\u001b[0;34m,\u001b[0m\u001b[0mlen\u001b[0m\u001b[0;34m(\u001b[0m\u001b[0mroom_types\u001b[0m\u001b[0;34m)\u001b[0m\u001b[0;34m)\u001b[0m\u001b[0;34m\u001b[0m\u001b[0;34m\u001b[0m\u001b[0m\n",
            "\u001b[0;31mFileNotFoundError\u001b[0m: [Errno 2] No such file or directory: '/kaggle/input/house-rooms-image-dataset/House_Room_Dataset'"
          ]
        }
      ],
      "execution_count": 7
    },
    {
      "cell_type": "code",
      "source": [
        "rooms=[]\n",
        "\n",
        "for item in room_types:\n",
        "    all_rooms=os.listdir('/kaggle/input/house-rooms-image-dataset/House_Room_Dataset'+'/'+item)\n",
        "    for room in all_rooms:\n",
        "        rooms.append((item,str('/kaggle/input/house-rooms-image-dataset/House_Room_Dataset'+'/'+item)+'/'+room))\n",
        "print(rooms[:5])"
      ],
      "metadata": {
        "trusted": true,
        "execution": {
          "iopub.status.busy": "2025-03-17T20:05:52.496847Z",
          "iopub.execute_input": "2025-03-17T20:05:52.497363Z",
          "iopub.status.idle": "2025-03-17T20:05:52.62351Z",
          "shell.execute_reply.started": "2025-03-17T20:05:52.497304Z",
          "shell.execute_reply": "2025-03-17T20:05:52.622301Z"
        },
        "id": "Kc26fwBM7G70"
      },
      "outputs": [],
      "execution_count": null
    },
    {
      "cell_type": "code",
      "source": [
        "rooms_df=pd.DataFrame(data=rooms,columns=['room_type','image'])\n",
        "print(rooms_df.head())\n",
        "print(rooms_df.tail())"
      ],
      "metadata": {
        "trusted": true,
        "execution": {
          "iopub.status.busy": "2025-03-17T20:05:56.978642Z",
          "iopub.execute_input": "2025-03-17T20:05:56.97905Z",
          "iopub.status.idle": "2025-03-17T20:05:57.002378Z",
          "shell.execute_reply.started": "2025-03-17T20:05:56.979013Z",
          "shell.execute_reply": "2025-03-17T20:05:57.001252Z"
        },
        "id": "0AWpUJiM7G71"
      },
      "outputs": [],
      "execution_count": null
    },
    {
      "cell_type": "code",
      "source": [
        "print('Total no of rooms in the dataset:',len(rooms_df))"
      ],
      "metadata": {
        "trusted": true,
        "execution": {
          "iopub.status.busy": "2025-03-17T20:06:01.670287Z",
          "iopub.execute_input": "2025-03-17T20:06:01.670759Z",
          "iopub.status.idle": "2025-03-17T20:06:01.676584Z",
          "shell.execute_reply.started": "2025-03-17T20:06:01.670721Z",
          "shell.execute_reply": "2025-03-17T20:06:01.675451Z"
        },
        "id": "qAQs9VCM7G71"
      },
      "outputs": [],
      "execution_count": null
    },
    {
      "cell_type": "code",
      "source": [
        "room_count=rooms_df['room_type'].value_counts()\n",
        "print(\"rooms in each category:\")\n",
        "print(room_count)"
      ],
      "metadata": {
        "trusted": true,
        "execution": {
          "iopub.status.busy": "2025-03-17T20:06:04.54052Z",
          "iopub.execute_input": "2025-03-17T20:06:04.540872Z",
          "iopub.status.idle": "2025-03-17T20:06:04.556194Z",
          "shell.execute_reply.started": "2025-03-17T20:06:04.540839Z",
          "shell.execute_reply": "2025-03-17T20:06:04.555225Z"
        },
        "id": "9nVYrFjn7G71"
      },
      "outputs": [],
      "execution_count": null
    },
    {
      "cell_type": "code",
      "source": [
        "import cv2\n",
        "path='/kaggle/input/house-rooms-image-dataset/House_Room_Dataset'\n",
        "\n",
        "im_size=300\n",
        "\n",
        "images=[]\n",
        "labels=[]\n",
        "\n",
        "for i in room_types:\n",
        "    data_path=path +'/'+ str(i)\n",
        "    filenames=[i for i in os.listdir(data_path)]\n",
        "    for f in filenames:\n",
        "        img=cv2.imread(data_path+'/'+f)\n",
        "        img=cv2.resize(img,(im_size,im_size))\n",
        "        images.append(img)\n",
        "        labels.append(i)"
      ],
      "metadata": {
        "trusted": true,
        "execution": {
          "iopub.status.busy": "2025-03-17T20:06:08.008623Z",
          "iopub.execute_input": "2025-03-17T20:06:08.008996Z",
          "iopub.status.idle": "2025-03-17T20:06:46.154372Z",
          "shell.execute_reply.started": "2025-03-17T20:06:08.008968Z",
          "shell.execute_reply": "2025-03-17T20:06:46.15346Z"
        },
        "id": "FGdnYe5s7G71"
      },
      "outputs": [],
      "execution_count": null
    },
    {
      "cell_type": "code",
      "source": [
        "images=np.array(images)\n",
        "images.shape"
      ],
      "metadata": {
        "trusted": true,
        "execution": {
          "iopub.status.busy": "2025-03-17T20:06:51.886293Z",
          "iopub.execute_input": "2025-03-17T20:06:51.886743Z",
          "iopub.status.idle": "2025-03-17T20:06:52.516439Z",
          "shell.execute_reply.started": "2025-03-17T20:06:51.886711Z",
          "shell.execute_reply": "2025-03-17T20:06:52.515313Z"
        },
        "id": "Ti2NXeVA7G72"
      },
      "outputs": [],
      "execution_count": null
    },
    {
      "cell_type": "code",
      "source": [
        "images=images.astype('float32')/255.0"
      ],
      "metadata": {
        "trusted": true,
        "execution": {
          "iopub.status.busy": "2025-03-17T20:06:56.522192Z",
          "iopub.execute_input": "2025-03-17T20:06:56.522612Z",
          "iopub.status.idle": "2025-03-17T20:06:59.696893Z",
          "shell.execute_reply.started": "2025-03-17T20:06:56.522579Z",
          "shell.execute_reply": "2025-03-17T20:06:59.69568Z"
        },
        "id": "morjJQ8F7G72"
      },
      "outputs": [],
      "execution_count": null
    },
    {
      "cell_type": "code",
      "source": [
        "images.shape"
      ],
      "metadata": {
        "trusted": true,
        "execution": {
          "iopub.status.busy": "2025-03-17T20:07:03.085253Z",
          "iopub.execute_input": "2025-03-17T20:07:03.085731Z",
          "iopub.status.idle": "2025-03-17T20:07:03.092002Z",
          "shell.execute_reply.started": "2025-03-17T20:07:03.085694Z",
          "shell.execute_reply": "2025-03-17T20:07:03.091001Z"
        },
        "id": "GlAnGkJ37G72"
      },
      "outputs": [],
      "execution_count": null
    },
    {
      "cell_type": "code",
      "source": [
        "from  sklearn.preprocessing import LabelEncoder , OneHotEncoder\n",
        "\n",
        "y=rooms_df['room_type'].values\n",
        "print(y[:5])"
      ],
      "metadata": {
        "trusted": true,
        "execution": {
          "iopub.status.busy": "2025-03-17T20:07:13.956323Z",
          "iopub.execute_input": "2025-03-17T20:07:13.956721Z",
          "iopub.status.idle": "2025-03-17T20:07:14.247366Z",
          "shell.execute_reply.started": "2025-03-17T20:07:13.956694Z",
          "shell.execute_reply": "2025-03-17T20:07:14.246199Z"
        },
        "id": "gV6Mv-I17G72"
      },
      "outputs": [],
      "execution_count": null
    },
    {
      "cell_type": "code",
      "source": [
        "y_labelencoder=LabelEncoder()\n",
        "y=y_labelencoder.fit_transform(y)\n",
        "print(y)"
      ],
      "metadata": {
        "trusted": true,
        "execution": {
          "iopub.status.busy": "2025-03-17T20:07:18.381198Z",
          "iopub.execute_input": "2025-03-17T20:07:18.381804Z",
          "iopub.status.idle": "2025-03-17T20:07:18.389022Z",
          "shell.execute_reply.started": "2025-03-17T20:07:18.38176Z",
          "shell.execute_reply": "2025-03-17T20:07:18.387785Z"
        },
        "id": "BI0ERnPx7G72"
      },
      "outputs": [],
      "execution_count": null
    },
    {
      "cell_type": "code",
      "source": [
        "from sklearn.utils import shuffle\n",
        "from sklearn.model_selection import train_test_split\n",
        "\n",
        "images,y=shuffle(images,y,random_state=1)\n",
        "train_x,test_x,train_y,test_y=train_test_split(images,y,test_size=0.20,random_state=415)\n",
        "\n",
        "print(train_x.shape)\n",
        "print(train_y.shape)\n",
        "print(test_x.shape)\n",
        "print(test_y.shape)"
      ],
      "metadata": {
        "trusted": true,
        "execution": {
          "iopub.status.busy": "2025-03-17T20:07:23.684523Z",
          "iopub.execute_input": "2025-03-17T20:07:23.684932Z",
          "iopub.status.idle": "2025-03-17T20:07:27.418376Z",
          "shell.execute_reply.started": "2025-03-17T20:07:23.684903Z",
          "shell.execute_reply": "2025-03-17T20:07:27.417434Z"
        },
        "id": "V8MzHqmM7G72"
      },
      "outputs": [],
      "execution_count": null
    },
    {
      "cell_type": "code",
      "source": [
        "import keras\n",
        "import tensorflow as tf\n",
        "model=keras.Sequential([\n",
        "    keras.layers.Flatten(input_shape=(300,300,3)),\n",
        "    keras.layers.Dense(512,activation=tf.nn.tanh),\n",
        "\n",
        "    keras.layers.Dense(5,activation=tf.nn.softmax)\n",
        "])"
      ],
      "metadata": {
        "trusted": true,
        "execution": {
          "iopub.status.busy": "2025-03-17T20:07:31.043981Z",
          "iopub.execute_input": "2025-03-17T20:07:31.044354Z",
          "iopub.status.idle": "2025-03-17T20:07:40.511255Z",
          "shell.execute_reply.started": "2025-03-17T20:07:31.044303Z",
          "shell.execute_reply": "2025-03-17T20:07:40.510418Z"
        },
        "id": "-fbtrT1W7G72"
      },
      "outputs": [],
      "execution_count": null
    },
    {
      "cell_type": "code",
      "source": [
        "model.summary()"
      ],
      "metadata": {
        "trusted": true,
        "execution": {
          "iopub.status.busy": "2025-03-17T20:07:45.067189Z",
          "iopub.execute_input": "2025-03-17T20:07:45.067898Z",
          "iopub.status.idle": "2025-03-17T20:07:45.086454Z",
          "shell.execute_reply.started": "2025-03-17T20:07:45.067862Z",
          "shell.execute_reply": "2025-03-17T20:07:45.085447Z"
        },
        "id": "u0shvLXb7G72"
      },
      "outputs": [],
      "execution_count": null
    },
    {
      "cell_type": "code",
      "source": [
        "model.compile(optimizer=tf.keras.optimizers.Adam(),\n",
        "             loss='sparse_categorical_crossentropy',\n",
        "             metrics=['accuracy'])"
      ],
      "metadata": {
        "trusted": true,
        "execution": {
          "iopub.status.busy": "2025-03-17T20:07:50.531966Z",
          "iopub.execute_input": "2025-03-17T20:07:50.532307Z",
          "iopub.status.idle": "2025-03-17T20:07:50.574567Z",
          "shell.execute_reply.started": "2025-03-17T20:07:50.532282Z",
          "shell.execute_reply": "2025-03-17T20:07:50.573433Z"
        },
        "id": "-Vhzl_XB7G72"
      },
      "outputs": [],
      "execution_count": null
    },
    {
      "cell_type": "code",
      "source": [
        "model.fit(train_x,train_y,epochs=5)"
      ],
      "metadata": {
        "trusted": true,
        "execution": {
          "iopub.status.busy": "2025-03-17T20:07:54.580645Z",
          "iopub.execute_input": "2025-03-17T20:07:54.581033Z",
          "iopub.status.idle": "2025-03-17T20:28:04.671809Z",
          "shell.execute_reply.started": "2025-03-17T20:07:54.581001Z",
          "shell.execute_reply": "2025-03-17T20:28:04.670371Z"
        },
        "id": "2vd7uHoB7G72"
      },
      "outputs": [],
      "execution_count": null
    },
    {
      "cell_type": "code",
      "source": [
        "predictions = model.predict(test_x)  # x_test is your test data\n",
        "\n",
        "# Get the class with the highest probability\n",
        "y_pred= np.argmax(predictions, axis=1)\n",
        "\n",
        "print(y_pred)"
      ],
      "metadata": {
        "trusted": true,
        "execution": {
          "iopub.status.busy": "2025-03-17T20:51:12.767279Z",
          "iopub.execute_input": "2025-03-17T20:51:12.767761Z",
          "iopub.status.idle": "2025-03-17T20:51:22.578082Z",
          "shell.execute_reply.started": "2025-03-17T20:51:12.767725Z",
          "shell.execute_reply": "2025-03-17T20:51:22.576856Z"
        },
        "id": "Se9vJKF27G73"
      },
      "outputs": [],
      "execution_count": null
    },
    {
      "cell_type": "code",
      "source": [
        "from keras.preprocessing.image import load_img\n",
        "import numpy as np\n",
        "image=load_img('/kaggle/input/bathroomimage/r-architecture-P_0tnQ8hb70-unsplash.jpg',target_size=(300,300))\n",
        "image"
      ],
      "metadata": {
        "trusted": true,
        "execution": {
          "iopub.status.busy": "2025-03-17T20:51:26.064929Z",
          "iopub.execute_input": "2025-03-17T20:51:26.065292Z",
          "iopub.status.idle": "2025-03-17T20:51:26.312584Z",
          "shell.execute_reply.started": "2025-03-17T20:51:26.065263Z",
          "shell.execute_reply": "2025-03-17T20:51:26.311432Z"
        },
        "id": "fRfJTtz37G73"
      },
      "outputs": [],
      "execution_count": null
    },
    {
      "cell_type": "code",
      "source": [
        "image=np.array(image)\n",
        "image.shape\n",
        "#image=image.reshape((1,image.shape[0],image.shape[1],image.shape[2]))"
      ],
      "metadata": {
        "trusted": true,
        "execution": {
          "iopub.status.busy": "2025-03-17T20:55:38.147433Z",
          "iopub.execute_input": "2025-03-17T20:55:38.147959Z",
          "iopub.status.idle": "2025-03-17T20:55:38.155036Z",
          "shell.execute_reply.started": "2025-03-17T20:55:38.14792Z",
          "shell.execute_reply": "2025-03-17T20:55:38.153939Z"
        },
        "id": "Q25_9Fnj7G73"
      },
      "outputs": [],
      "execution_count": null
    },
    {
      "cell_type": "code",
      "source": [
        "yhat=model.predict(image)\n",
        "yhat\n"
      ],
      "metadata": {
        "trusted": true,
        "execution": {
          "iopub.status.busy": "2025-03-17T20:55:41.532203Z",
          "iopub.execute_input": "2025-03-17T20:55:41.532601Z",
          "iopub.status.idle": "2025-03-17T20:55:41.748148Z",
          "shell.execute_reply.started": "2025-03-17T20:55:41.532562Z",
          "shell.execute_reply": "2025-03-17T20:55:41.747012Z"
        },
        "id": "FBlY2eCN7G73"
      },
      "outputs": [],
      "execution_count": null
    },
    {
      "cell_type": "code",
      "source": [],
      "metadata": {
        "trusted": true,
        "id": "NH6Oxi1l7G73"
      },
      "outputs": [],
      "execution_count": null
    }
  ]
}