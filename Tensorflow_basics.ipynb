{
  "nbformat": 4,
  "nbformat_minor": 0,
  "metadata": {
    "colab": {
      "provenance": [],
      "authorship_tag": "ABX9TyNE8fFjzvD8o3GxEn6+GVNO",
      "include_colab_link": true
    },
    "kernelspec": {
      "name": "python3",
      "display_name": "Python 3"
    },
    "language_info": {
      "name": "python"
    }
  },
  "cells": [
    {
      "cell_type": "markdown",
      "metadata": {
        "id": "view-in-github",
        "colab_type": "text"
      },
      "source": [
        "<a href=\"https://colab.research.google.com/github/souma21122002/DeepLearning/blob/main/Tensorflow_basics.ipynb\" target=\"_parent\"><img src=\"https://colab.research.google.com/assets/colab-badge.svg\" alt=\"Open In Colab\"/></a>"
      ]
    },
    {
      "cell_type": "code",
      "execution_count": null,
      "metadata": {
        "colab": {
          "base_uri": "https://localhost:8080/",
          "height": 35
        },
        "id": "zEnIyUvUlEzO",
        "outputId": "11621c9e-f097-4705-9600-0a324fdc974a"
      },
      "outputs": [
        {
          "output_type": "execute_result",
          "data": {
            "text/plain": [
              "'2.18.0'"
            ],
            "application/vnd.google.colaboratory.intrinsic+json": {
              "type": "string"
            }
          },
          "metadata": {},
          "execution_count": 28
        }
      ],
      "source": [
        "import tensorflow as tf\n",
        "tf.version.VERSION"
      ]
    },
    {
      "cell_type": "code",
      "source": [
        "import tensorflow as tf\n",
        "tf.compat.v1.disable_eager_execution()\n",
        "\n",
        "#building a computational graph\n",
        "a=tf.constant(2)\n",
        "b=tf.constant(4)\n",
        "c=a+b\n",
        "print(c)"
      ],
      "metadata": {
        "colab": {
          "base_uri": "https://localhost:8080/"
        },
        "id": "zlCH5HCRlQt6",
        "outputId": "46a32d82-a0d0-49b1-8744-30ea573a4bc4"
      },
      "execution_count": null,
      "outputs": [
        {
          "output_type": "stream",
          "name": "stdout",
          "text": [
            "Tensor(\"add_7:0\", shape=(), dtype=int32)\n"
          ]
        }
      ]
    },
    {
      "cell_type": "code",
      "source": [
        "#running a computational graph\n",
        "ssn=tf.compat.v1.Session()\n",
        "\n",
        "ssn.run(c)"
      ],
      "metadata": {
        "colab": {
          "base_uri": "https://localhost:8080/"
        },
        "id": "4kJTdHIZn4z6",
        "outputId": "06292c02-64fa-407a-9d7f-950ac2bf8e7e"
      },
      "execution_count": null,
      "outputs": [
        {
          "output_type": "execute_result",
          "data": {
            "text/plain": [
              "6"
            ]
          },
          "metadata": {},
          "execution_count": 30
        }
      ]
    },
    {
      "cell_type": "code",
      "source": [
        "x1=tf.constant([1,2,4,5])\n",
        "x2=tf.constant([2,3,5,6])\n",
        "\n",
        "result=tf.multiply(x1,x2)\n",
        "print(result)\n",
        "ssn.run(result)\n"
      ],
      "metadata": {
        "colab": {
          "base_uri": "https://localhost:8080/"
        },
        "id": "NOaWEr1AoJnz",
        "outputId": "3faec1e7-352a-4feb-cced-c97fb4bb2743"
      },
      "execution_count": null,
      "outputs": [
        {
          "output_type": "stream",
          "name": "stdout",
          "text": [
            "Tensor(\"Mul_5:0\", shape=(4,), dtype=int32)\n"
          ]
        },
        {
          "output_type": "execute_result",
          "data": {
            "text/plain": [
              "array([ 2,  6, 20, 30], dtype=int32)"
            ]
          },
          "metadata": {},
          "execution_count": 31
        }
      ]
    },
    {
      "cell_type": "code",
      "source": [
        "result1=x1*x2\n",
        "ssn.run(result1)"
      ],
      "metadata": {
        "colab": {
          "base_uri": "https://localhost:8080/"
        },
        "id": "uVijC26-opVT",
        "outputId": "64c8b55e-850a-4b3d-b845-9b37b96a181c"
      },
      "execution_count": null,
      "outputs": [
        {
          "output_type": "execute_result",
          "data": {
            "text/plain": [
              "array([ 2,  6, 20, 30], dtype=int32)"
            ]
          },
          "metadata": {},
          "execution_count": 32
        }
      ]
    },
    {
      "cell_type": "markdown",
      "source": [
        "**Placeholder**==giving the value at the time of execution"
      ],
      "metadata": {
        "id": "PKM52e6mpvSC"
      }
    },
    {
      "cell_type": "code",
      "source": [
        "a=tf.compat.v1.placeholder(tf.float32)\n",
        "b=tf.compat.v1.placeholder(tf.float32)\n",
        "c=a+b"
      ],
      "metadata": {
        "id": "jKSZcKxppA5W"
      },
      "execution_count": null,
      "outputs": []
    },
    {
      "cell_type": "code",
      "source": [
        "ssn.run(c,{a:1,b:3})"
      ],
      "metadata": {
        "colab": {
          "base_uri": "https://localhost:8080/"
        },
        "id": "729ILatDqBvU",
        "outputId": "905c3e5f-6cce-4b64-b670-021763cbfd3a"
      },
      "execution_count": null,
      "outputs": [
        {
          "output_type": "execute_result",
          "data": {
            "text/plain": [
              "4.0"
            ]
          },
          "metadata": {},
          "execution_count": 34
        }
      ]
    },
    {
      "cell_type": "code",
      "source": [
        "ssn.run(c,{a:[1,3,4,5],b:[3,8,9,5]})"
      ],
      "metadata": {
        "colab": {
          "base_uri": "https://localhost:8080/"
        },
        "id": "VEvfqSKXqHuH",
        "outputId": "e7c285a2-48f5-4897-f23d-4f342448ad6a"
      },
      "execution_count": null,
      "outputs": [
        {
          "output_type": "execute_result",
          "data": {
            "text/plain": [
              "array([ 4., 11., 13., 10.], dtype=float32)"
            ]
          },
          "metadata": {},
          "execution_count": 35
        }
      ]
    },
    {
      "cell_type": "markdown",
      "source": [
        "**Variable**"
      ],
      "metadata": {
        "id": "Dw94KRKLORxJ"
      }
    },
    {
      "cell_type": "code",
      "source": [
        "x=tf.compat.v1.Variable([2])\n",
        "w=tf.compat.v1.Variable([3])\n",
        "c=x*w\n",
        "init=tf.compat.v1.global_variables_initializer()\n",
        "ssn.run(init)\n",
        "ssn.run(c)"
      ],
      "metadata": {
        "id": "QzDbsSt2qOv3",
        "colab": {
          "base_uri": "https://localhost:8080/"
        },
        "outputId": "4cb5c0d9-6a1e-484c-ed80-38d8032e17aa"
      },
      "execution_count": null,
      "outputs": [
        {
          "output_type": "execute_result",
          "data": {
            "text/plain": [
              "array([6], dtype=int32)"
            ]
          },
          "metadata": {},
          "execution_count": 38
        }
      ]
    },
    {
      "cell_type": "code",
      "source": [],
      "metadata": {
        "id": "4wyWMWATPVzH"
      },
      "execution_count": null,
      "outputs": []
    }
  ]
}